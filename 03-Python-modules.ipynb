{
 "cells": [
  {
   "cell_type": "markdown",
   "metadata": {
    "id": "cB27OQ9zJ5iV"
   },
   "source": [
    "# Python Tutorial III: Modules\n",
    "In this lecture, we will see how to make code more organized by creating user-defined modules and split the code into multiple reusable parts."
   ]
  },
  {
   "cell_type": "markdown",
   "metadata": {
    "collapsed": true,
    "id": "E9MCM1FZ7RzB"
   },
   "source": [
    "## Modules\n",
    "\n",
    "### What is it?\n",
    "* A file containing Python definitions and statements.\n",
    "* The file name is the module name with the suffix .py appended.\n",
    "* Within a module, the module's name is available as the valuable of the global variable *__name__*.\n",
    "\n",
    "### When to use:\n",
    "* Your script gets very long and you want to have easier maintenance. \n",
    "* You want to reuse a function in several programs or scripts without copy/paste.\n",
    "* Performance reasons.\n",
    "\n",
    "Let's look at an example:\n",
    "\n",
    "Go to the Home tab and left click on ``differences.py`` and then look at the code cell below."
   ]
  },
  {
   "cell_type": "code",
   "execution_count": null,
   "metadata": {
    "colab": {
     "base_uri": "https://localhost:8080/"
    },
    "id": "PtMqI_JXeVNX",
    "outputId": "47e71da9-c724-4c17-d8dc-eb955298b563"
   },
   "outputs": [],
   "source": [
    "from google.colab import drive\n",
    "drive.mount('/content/gdrive')\n",
    "\n"
   ]
  },
  {
   "cell_type": "code",
   "execution_count": null,
   "metadata": {
    "id": "orrTkNVEfBVI"
   },
   "outputs": [],
   "source": [
    "import sys,os\n",
    "os.listdir('/content/gdrive/My Drive')\n",
    "sys.path.append('/content/gdrive/My Drive/Colab Notebooks')\n",
    "import numpy as np4/1AX4XfWh2fktpiim2Cr3vmQYRMph3voTXyQZ3NAvASkgIO_BWHIKo0nWA2XQ\n",
    "\n"
   ]
  },
  {
   "cell_type": "code",
   "execution_count": null,
   "metadata": {
    "id": "dcXJbaiQ7RzB"
   },
   "outputs": [],
   "source": [
    "%matplotlib inline   \n",
    "'''\n",
    "differences.py was included in the repo and should be located within \n",
    "the same directory as this lecture\n",
    "'''\n",
    "\n",
    "import differences as diff # We import the module just like we import numpy\n",
    "import matplotlib.pyplot as plt\n",
    "\n",
    "def myfun(x=0):\n",
    "    return np.exp(-x**2)*np.sin(np.pi*x)\n",
    "\n",
    "def myder(x=0):\n",
    "    return np.exp(-x**2)*(np.pi*np.cos(np.pi*x)-2*x*np.sin(np.pi*x))\n",
    "    \n",
    "x = np.linspace(0,1,100)\n",
    "\n",
    "fprime_FD = diff.for_diff(myfun,x,.1) #forward difference approximation to the derivative\n",
    "fprime_BD = diff.back_diff(myfun,x,.1) #backward difference approximation to the derivative\n",
    "fprime_CD = diff.cent_diff(myfun,x,.1) #centered difference approximation to the derivative"
   ]
  },
  {
   "cell_type": "code",
   "execution_count": null,
   "metadata": {
    "colab": {
     "base_uri": "https://localhost:8080/",
     "height": 709
    },
    "id": "cs6RdpFb7RzB",
    "outputId": "4f9edb34-6453-4adf-c723-ed8c39607182"
   },
   "outputs": [],
   "source": [
    "plt.figure(0)\n",
    "plt.plot(x,myfun(x))\n",
    "plt.title('$f(x) = e^{-x^2}\\sin(\\pi x)$')\n",
    "\n",
    "fig1 = plt.figure(1, figsize=(15, 6)) # for plots of forward difference approx\n",
    "fig2 = plt.figure(2, figsize=(15, 6)) # for plots of backward difference approx\n",
    "fig3 = plt.figure(3, figsize=(15, 6)) # for plots of centered difference approx\n",
    "\n",
    "axes1_1 = fig1.add_subplot(1, 2, 1) #the first plot in a 1x3 array\n",
    "axes2_1 = fig1.add_subplot(1, 2, 2) #the second plot in a 1x3 array\n",
    "\n",
    "axes1_1.plot(x,myder(x),label='$f^\\prime$')\n",
    "axes1_1.plot(x,fprime_FD,label='FD approx of $f^\\prime$')\n",
    "axes1_1.legend(loc='upper right', fontsize=14)\n",
    "\n",
    "axes2_1.plot(x,myder(x)-fprime_FD)\n",
    "axes2_1.set_title('Error in the approximate derivative')\n",
    "\n",
    "# Omitted similar plots for fprime_BD and fprime_CD"
   ]
  },
  {
   "cell_type": "markdown",
   "metadata": {
    "collapsed": true,
    "id": "0Ia7JMMS7RzB"
   },
   "source": [
    "## Where does a module file need to go?\n",
    "\n",
    "Say you are trying to `import spam`.\n",
    "\n",
    "When imported, the interpreter searches for spam in locations in the following order:\n",
    "1. A built-in module with that name. \n",
    "2. *spam.py* in a list of directories given by the variable *sys.path*. \n",
    "    1. The directory containing the input script (or the current directory when no file is specified).\n",
    "    2. PYTHONPATH (a list of directory names, syntax as shell variable PATH).\n",
    "    3. The installation-dependent default.\n",
    "\n",
    "## Generalizations of Modules: Packages\n",
    "\n",
    "Packages (i.e., libraries) are modules with a *directory* structure.\n",
    "You can even make packages with subpackages and simply exploit the dot.dot reference to navigate through the package to get to the function you want (e.g. matplotlib.pyplot.plot).  \n",
    "If you want to develop a well-comparmentalized package you can look at online help: https://python-packaging.readthedocs.io/en/latest/"
   ]
  },
  {
   "cell_type": "markdown",
   "metadata": {
    "id": "47-4OgG47RzC"
   },
   "source": [
    "## Exercise: Make and use your own module\n",
    "\n",
    "(1) Go to the Home tab in your browser and create a new text file. \n",
    "\n",
    "(2) Copy/paste the `myfun1` and `myfun2` into this file and save the file as `myModule.py`.\n",
    "\n",
    "(3) Create a new Notebook from the Home tab, and in a code cell within that Notebook import your module as `myMod` and execute some of the function calls seen here using `myMod.myfun1` or `myMod.myfun2`."
   ]
  },
  {
   "cell_type": "code",
   "execution_count": null,
   "metadata": {
    "id": "uRvIeOkJ7RzC"
   },
   "outputs": [],
   "source": []
  }
 ],
 "metadata": {
  "anaconda-cloud": {},
  "colab": {
   "collapsed_sections": [],
   "name": "02-Python-functions-modules.ipynb",
   "provenance": []
  },
  "kernelspec": {
   "display_name": "Python 3",
   "language": "python",
   "name": "python3"
  },
  "language_info": {
   "codemirror_mode": {
    "name": "ipython",
    "version": 3
   },
   "file_extension": ".py",
   "mimetype": "text/x-python",
   "name": "python",
   "nbconvert_exporter": "python",
   "pygments_lexer": "ipython3",
   "version": "3.8.5"
  }
 },
 "nbformat": 4,
 "nbformat_minor": 1
}
